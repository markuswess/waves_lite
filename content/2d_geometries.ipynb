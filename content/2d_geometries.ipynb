{
 "cells": [
  {
   "cell_type": "code",
   "execution_count": 1,
   "id": "1c4a79fd",
   "metadata": {},
   "outputs": [
    {
     "data": {
      "application/vnd.jupyter.widget-view+json": {
       "model_id": "4aef84c670f44cd6aa2552ceecdc77ba",
       "version_major": 2,
       "version_minor": 0
      },
      "text/plain": [
       "WebGuiWidget(value={'ngsolve_version': 'Netgen x.x', 'mesh_dim': 3, 'mesh_center': [3.0, 3.000000000000001, 0.…"
      ]
     },
     "metadata": {},
     "output_type": "display_data"
    }
   ],
   "source": [
    "# import ngsolve and webgui\n",
    "from ngsolve import *\n",
    "from ngsolve.webgui import Draw\n",
    "\n",
    "# import occ geometry tools\n",
    "from netgen.occ import *\n",
    "\n",
    "\n",
    "#create some basic shapes\n",
    "bigrect = MoveTo(-2,-2).Rectangle(10,10).Face()\n",
    "rect = MoveTo(3,0).Rectangle(1,1).Face()\n",
    "circ = Circle((1,0),1).Face()\n",
    "\n",
    "#shapes can be combined by logic operations\n",
    "Draw(bigrect-(rect+circ));"
   ]
  },
  {
   "cell_type": "code",
   "execution_count": 14,
   "id": "72dcf167",
   "metadata": {},
   "outputs": [
    {
     "data": {
      "application/vnd.jupyter.widget-view+json": {
       "model_id": "c06e6a14b970477aba09a23d414e52fc",
       "version_major": 2,
       "version_minor": 0
      },
      "text/plain": [
       "WebGuiWidget(value={'ngsolve_version': 'Netgen x.x', 'mesh_dim': 3, 'mesh_center': [1.1915111107797445, 0.5, 0…"
      ]
     },
     "metadata": {},
     "output_type": "display_data"
    },
    {
     "data": {
      "application/vnd.jupyter.widget-view+json": {
       "model_id": "bc0e97cf58344c888e10210f6b17066a",
       "version_major": 2,
       "version_minor": 0
      },
      "text/plain": [
       "WebGuiWidget(value={'gui_settings': {}, 'ngsolve_version': '6.2.2401-4-g6fc35016a', 'mesh_dim': 2, 'order2d': …"
      ]
     },
     "metadata": {},
     "output_type": "display_data"
    },
    {
     "data": {
      "text/plain": [
       "BaseWebGuiScene"
      ]
     },
     "execution_count": 14,
     "metadata": {},
     "output_type": "execute_result"
    }
   ],
   "source": [
    "#a wire can be used to create other shapes\n",
    "wire = WorkPlane().Line(1,1).Line(1,0).Arc(0.5,-50).Close().Wire()\n",
    "shape = Face(wire)\n",
    "Draw(shape)\n",
    "\n",
    "\n",
    "geo = OCCGeometry(shape, dim = 2)\n",
    "mesh = Mesh(geo.GenerateMesh(maxh=0.1)).Curve(4)\n",
    "Draw(mesh)"
   ]
  },
  {
   "cell_type": "code",
   "execution_count": null,
   "id": "642d09dc",
   "metadata": {},
   "outputs": [],
   "source": []
  }
 ],
 "metadata": {
  "kernelspec": {
   "display_name": "Python 3 (ipykernel)",
   "language": "python",
   "name": "python3"
  },
  "language_info": {
   "codemirror_mode": {
    "name": "ipython",
    "version": 3
   },
   "file_extension": ".py",
   "mimetype": "text/x-python",
   "name": "python",
   "nbconvert_exporter": "python",
   "pygments_lexer": "ipython3",
   "version": "3.10.12"
  }
 },
 "nbformat": 4,
 "nbformat_minor": 5
}
