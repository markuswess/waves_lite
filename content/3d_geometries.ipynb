{
 "cells": [
  {
   "cell_type": "code",
   "execution_count": 1,
   "id": "04b3a297",
   "metadata": {},
   "outputs": [
    {
     "data": {
      "application/vnd.jupyter.widget-view+json": {
       "model_id": "8396dbeb2d2145a5a7e7d3b55b26afd1",
       "version_major": 2,
       "version_minor": 0
      },
      "text/plain": [
       "WebGuiWidget(value={'ngsolve_version': 'Netgen x.x', 'mesh_dim': 3, 'mesh_center': [1.5, 1.6653345369377348e-1…"
      ]
     },
     "metadata": {},
     "output_type": "display_data"
    },
    {
     "data": {
      "text/plain": [
       "BaseWebGuiScene"
      ]
     },
     "execution_count": 1,
     "metadata": {},
     "output_type": "execute_result"
    }
   ],
   "source": [
    "# import ngsolve and webgui\n",
    "from ngsolve import *\n",
    "from ngsolve.webgui import Draw\n",
    "\n",
    "# import occ geometry tools\n",
    "from netgen.occ import *\n",
    "\n",
    "\n",
    "#create some basic shapes\n",
    "cyl = Cylinder((0,0,0),(1,0,0),1,2)\n",
    "sphere = Sphere((0,0,0),0.4)\n",
    "box = Box((2,0,0),(3,0.2,0.1))\n",
    "Draw(cyl-sphere+box)\n"
   ]
  },
  {
   "cell_type": "code",
   "execution_count": 16,
   "id": "32b53fbc",
   "metadata": {},
   "outputs": [],
   "source": [
    "# there are a lot of more advanced operations\n",
    "circ = Circle((2,0),1).Face()\n",
    "handle = circ.Revolve(Axis((0,0,0),(0,1,0)),180)\n",
    "ext = circ.Extrude(1,(0,1,1))\n",
    "\n",
    "circsmall = Circle((2,0),0.5).Face()\n",
    "handlesmall = circsmall.Revolve(Axis((0,0,0),(0,1,0)),180)\n",
    "extsmall = circsmall.Extrude(1,(0,1,1))"
   ]
  },
  {
   "cell_type": "code",
   "execution_count": 17,
   "id": "8376ec78",
   "metadata": {},
   "outputs": [
    {
     "data": {
      "application/vnd.jupyter.widget-view+json": {
       "model_id": "fea93ee357a34730b20597d2cc7e98b6",
       "version_major": 2,
       "version_minor": 0
      },
      "text/plain": [
       "WebGuiWidget(value={'ngsolve_version': 'Netgen x.x', 'mesh_dim': 3, 'mesh_center': [0.0, 0.4999999999999998, -…"
      ]
     },
     "metadata": {},
     "output_type": "display_data"
    },
    {
     "data": {
      "text/plain": [
       "BaseWebGuiScene"
      ]
     },
     "execution_count": 17,
     "metadata": {},
     "output_type": "execute_result"
    }
   ],
   "source": [
    "Draw(handle+ext-handlesmall-extsmall)"
   ]
  },
  {
   "cell_type": "code",
   "execution_count": null,
   "id": "fbbce91d",
   "metadata": {},
   "outputs": [],
   "source": []
  }
 ],
 "metadata": {
  "kernelspec": {
   "display_name": "Python 3 (ipykernel)",
   "language": "python",
   "name": "python3"
  },
  "language_info": {
   "codemirror_mode": {
    "name": "ipython",
    "version": 3
   },
   "file_extension": ".py",
   "mimetype": "text/x-python",
   "name": "python",
   "nbconvert_exporter": "python",
   "pygments_lexer": "ipython3",
   "version": "3.10.12"
  }
 },
 "nbformat": 4,
 "nbformat_minor": 5
}
